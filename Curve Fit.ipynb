{
 "cells": [
  {
   "cell_type": "code",
   "execution_count": 34,
   "metadata": {
    "collapsed": true
   },
   "outputs": [],
   "source": [
    "import math as m\n",
    "import pandas as pd\n",
    "from pivottablejs import pivot_ui\n",
    "import seaborn as sb\n",
    "import matplotlib.pyplot as plt  \n",
    "from ipywidgets import widgets\n",
    "import numpy as np\n",
    "from sklearn import (metrics, cross_validation, linear_model, preprocessing)\n",
    "from sklearn.metrics import log_loss\n",
    "from scipy.optimize import (minimize,basinhopping)\n",
    "from sklearn.naive_bayes import BernoulliNB\n",
    "from sklearn.ensemble import (GradientBoostingClassifier,RandomForestClassifier)\n",
    "from sklearn.tree import DecisionTreeClassifier\n",
    "from sklearn.feature_selection import RFE\n",
    "from sklearn import ensemble\n",
    "from sklearn.pipeline import Pipeline\n",
    "from sklearn.pipeline import FeatureUnion\n",
    "from sklearn import grid_search\n",
    "from itertools import combinations\n",
    "from scipy.optimize import curve_fit\n",
    "import scipy\n",
    "import pickle\n",
    "\n",
    "%matplotlib inline"
   ]
  },
  {
   "cell_type": "code",
   "execution_count": 25,
   "metadata": {
    "collapsed": false
   },
   "outputs": [
    {
     "name": "stdout",
     "output_type": "stream",
     "text": [
      "[  4.   2.   3.   7.  10.  10.  10.   5.   5.   2.   4.   5.   2.]\n",
      "[  1.   3.   5.   7.   9.  11.  13.  15.  17.  19.  21.  23.  25.  27.]\n"
     ]
    },
    {
     "data": {
      "image/png": "[encoded data removed]",
      "text/plain": [
       "<matplotlib.figure.Figure at 0xcb55850>"
      ]
     },
     "metadata": {},
     "output_type": "display_data"
    }
   ],
   "source": [
    "aoh = pd.read_csv('aoh.csv')\n",
    "#plt.plot(aoh['Call'])\n",
    "counts, bins, bars = plt.hist(aoh['Call'],bins=13)\n",
    "print(counts) #y\n",
    "print(bins) #x\n",
    "\n",
    "\n",
    "#http://www2.mpia-hd.mpg.de/~robitaille/PY4SCI_SS_2014/_static/15.%20Fitting%20models%20to%20data.html"
   ]
  },
  {
   "cell_type": "code",
   "execution_count": 41,
   "metadata": {
    "collapsed": false
   },
   "outputs": [
    {
     "data": {
      "text/plain": [
       "(array([  5.61785714e-04,   6.49535714e-03,   2.91571429e-02,\n",
       "          7.05203571e-02,   1.05801429e-01,   1.06637143e-01,\n",
       "          1.01608929e-01,   2.86139286e-02,   1.06367857e-02,\n",
       "          3.34750000e-03,   7.10357143e-04,   1.71785714e-04,\n",
       "          2.32142857e-05]),\n",
       " array([  0.        ,   2.15384615,   4.30769231,   6.46153846,\n",
       "          8.61538462,  10.76923077,  12.92307692,  15.07692308,\n",
       "         17.23076923,  19.38461538,  21.53846154,  23.69230769,\n",
       "         25.84615385,  28.        ]),\n",
       " <a list of 13 Patch objects>)"
      ]
     },
     "execution_count": 41,
     "metadata": {},
     "output_type": "execute_result"
    },
    {
     "data": {
      "image/png": "[encoded data removed]",
      "text/plain": [
       "<matplotlib.figure.Figure at 0xc9d0c30>"
      ]
     },
     "metadata": {},
     "output_type": "display_data"
    }
   ],
   "source": [
    "def poisson_d(x,a):\n",
    "    return (np.exp(-a) * a**x) / scipy.misc.factorial(x)\n",
    "\n",
    "popt, pcov = curve_fit(poisson_d, bins[:-1], counts)\n",
    "\n",
    "s = np.random.poisson(11,100000)\n",
    "plt.hist(s, bins=13, normed=True)"
   ]
  }
 ],
 "metadata": {
  "kernelspec": {
   "display_name": "Python 3",
   "language": "python",
   "name": "python3"
  },
  "language_info": {
   "codemirror_mode": {
    "name": "ipython",
    "version": 3
   },
   "file_extension": ".py",
   "mimetype": "text/x-python",
   "name": "python",
   "nbconvert_exporter": "python",
   "pygments_lexer": "ipython3",
   "version": "3.5.1"
  }
 },
 "nbformat": 4,
 "nbformat_minor": 0
}
