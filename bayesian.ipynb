{
 "cells": [
  {
   "cell_type": "code",
   "execution_count": 7,
   "metadata": {
    "collapsed": true
   },
   "outputs": [],
   "source": [
    "import pymc as pm"
   ]
  },
  {
   "cell_type": "code",
   "execution_count": 8,
   "metadata": {
    "collapsed": false
   },
   "outputs": [
    {
     "name": "stdout",
     "output_type": "stream",
     "text": [
      "lambda_1.value = 0.633\n",
      "lambda_2.value = 0.357\n",
      "tau.value = 4.000\n",
      "After calling random() on the variables...\n",
      "lambda_1.value = 0.137\n",
      "lambda_2.value = 0.311\n",
      "tau.value = 8.000\n"
     ]
    }
   ],
   "source": [
    "lambda_1 = pm.Exponential(\"lambda_1\", 1)  # prior on first behaviour\n",
    "lambda_2 = pm.Exponential(\"lambda_2\", 1)  # prior on second behaviour\n",
    "tau = pm.DiscreteUniform(\"tau\", lower=0, upper=10)  # prior on behaviour change\n",
    "\n",
    "print(\"lambda_1.value = %.3f\" % lambda_1.value)\n",
    "print(\"lambda_2.value = %.3f\" % lambda_2.value)\n",
    "print(\"tau.value = %.3f\" % tau.value)\n",
    "\n",
    "lambda_1.random(), lambda_2.random(), tau.random()\n",
    "\n",
    "print(\"After calling random() on the variables...\")\n",
    "print(\"lambda_1.value = %.3f\" % lambda_1.value)\n",
    "print(\"lambda_2.value = %.3f\" % lambda_2.value)\n",
    "print(\"tau.value = %.3f\" % tau.value)"
   ]
  },
  {
   "cell_type": "code",
   "execution_count": 15,
   "metadata": {
    "collapsed": false
   },
   "outputs": [
    {
     "data": {
      "text/plain": [
       "array(0.010326472841117705)"
      ]
     },
     "execution_count": 15,
     "metadata": {},
     "output_type": "execute_result"
    }
   ],
   "source": [
    "for [lambda_1.random()"
   ]
  },
  {
   "cell_type": "code",
   "execution_count": null,
   "metadata": {
    "collapsed": true
   },
   "outputs": [],
   "source": []
  }
 ],
 "metadata": {
  "kernelspec": {
   "display_name": "Python 3",
   "language": "python",
   "name": "python3"
  },
  "language_info": {
   "codemirror_mode": {
    "name": "ipython",
    "version": 3
   },
   "file_extension": ".py",
   "mimetype": "text/x-python",
   "name": "python",
   "nbconvert_exporter": "python",
   "pygments_lexer": "ipython3",
   "version": "3.5.1"
  }
 },
 "nbformat": 4,
 "nbformat_minor": 0
}
